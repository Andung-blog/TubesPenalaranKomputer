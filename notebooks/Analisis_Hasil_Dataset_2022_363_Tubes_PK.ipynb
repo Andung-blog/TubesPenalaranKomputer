{
  "nbformat": 4,
  "nbformat_minor": 0,
  "metadata": {
    "colab": {
      "provenance": []
    },
    "kernelspec": {
      "name": "python3",
      "display_name": "Python 3"
    },
    "language_info": {
      "name": "python"
    },
    "widgets": {
      "application/vnd.jupyter.widget-state+json": {
        "1dbc252b26854947a72147d0011e7ad5": {
          "model_module": "@jupyter-widgets/controls",
          "model_name": "HBoxModel",
          "model_module_version": "1.5.0",
          "state": {
            "_dom_classes": [],
            "_model_module": "@jupyter-widgets/controls",
            "_model_module_version": "1.5.0",
            "_model_name": "HBoxModel",
            "_view_count": null,
            "_view_module": "@jupyter-widgets/controls",
            "_view_module_version": "1.5.0",
            "_view_name": "HBoxView",
            "box_style": "",
            "children": [
              "IPY_MODEL_1e752c2fb0264243aa21438eb3afc0bc",
              "IPY_MODEL_245638ac26a348b7b2f2af3130528451",
              "IPY_MODEL_b9cabf96049847fab3528c6392428889"
            ],
            "layout": "IPY_MODEL_d914c522127d448c95c6769ee9ffe089"
          }
        },
        "1e752c2fb0264243aa21438eb3afc0bc": {
          "model_module": "@jupyter-widgets/controls",
          "model_name": "HTMLModel",
          "model_module_version": "1.5.0",
          "state": {
            "_dom_classes": [],
            "_model_module": "@jupyter-widgets/controls",
            "_model_module_version": "1.5.0",
            "_model_name": "HTMLModel",
            "_view_count": null,
            "_view_module": "@jupyter-widgets/controls",
            "_view_module_version": "1.5.0",
            "_view_name": "HTMLView",
            "description": "",
            "description_tooltip": null,
            "layout": "IPY_MODEL_959b44ea5c2e4d2492342ffd2af2e618",
            "placeholder": "​",
            "style": "IPY_MODEL_96ba6937b9f54f8bbe4e1c51cefed732",
            "value": "Batches: 100%"
          }
        },
        "245638ac26a348b7b2f2af3130528451": {
          "model_module": "@jupyter-widgets/controls",
          "model_name": "FloatProgressModel",
          "model_module_version": "1.5.0",
          "state": {
            "_dom_classes": [],
            "_model_module": "@jupyter-widgets/controls",
            "_model_module_version": "1.5.0",
            "_model_name": "FloatProgressModel",
            "_view_count": null,
            "_view_module": "@jupyter-widgets/controls",
            "_view_module_version": "1.5.0",
            "_view_name": "ProgressView",
            "bar_style": "success",
            "description": "",
            "description_tooltip": null,
            "layout": "IPY_MODEL_e68c42fb7eb9419785ce3bd19690ac57",
            "max": 1,
            "min": 0,
            "orientation": "horizontal",
            "style": "IPY_MODEL_6f81144b5d6e443798b5594c32b67b83",
            "value": 1
          }
        },
        "b9cabf96049847fab3528c6392428889": {
          "model_module": "@jupyter-widgets/controls",
          "model_name": "HTMLModel",
          "model_module_version": "1.5.0",
          "state": {
            "_dom_classes": [],
            "_model_module": "@jupyter-widgets/controls",
            "_model_module_version": "1.5.0",
            "_model_name": "HTMLModel",
            "_view_count": null,
            "_view_module": "@jupyter-widgets/controls",
            "_view_module_version": "1.5.0",
            "_view_name": "HTMLView",
            "description": "",
            "description_tooltip": null,
            "layout": "IPY_MODEL_87780ce7a27f4f79a7cd580027d0806a",
            "placeholder": "​",
            "style": "IPY_MODEL_7102686d07324c64963d2340190acbd6",
            "value": " 1/1 [00:08&lt;00:00,  8.80s/it]"
          }
        },
        "d914c522127d448c95c6769ee9ffe089": {
          "model_module": "@jupyter-widgets/base",
          "model_name": "LayoutModel",
          "model_module_version": "1.2.0",
          "state": {
            "_model_module": "@jupyter-widgets/base",
            "_model_module_version": "1.2.0",
            "_model_name": "LayoutModel",
            "_view_count": null,
            "_view_module": "@jupyter-widgets/base",
            "_view_module_version": "1.2.0",
            "_view_name": "LayoutView",
            "align_content": null,
            "align_items": null,
            "align_self": null,
            "border": null,
            "bottom": null,
            "display": null,
            "flex": null,
            "flex_flow": null,
            "grid_area": null,
            "grid_auto_columns": null,
            "grid_auto_flow": null,
            "grid_auto_rows": null,
            "grid_column": null,
            "grid_gap": null,
            "grid_row": null,
            "grid_template_areas": null,
            "grid_template_columns": null,
            "grid_template_rows": null,
            "height": null,
            "justify_content": null,
            "justify_items": null,
            "left": null,
            "margin": null,
            "max_height": null,
            "max_width": null,
            "min_height": null,
            "min_width": null,
            "object_fit": null,
            "object_position": null,
            "order": null,
            "overflow": null,
            "overflow_x": null,
            "overflow_y": null,
            "padding": null,
            "right": null,
            "top": null,
            "visibility": null,
            "width": null
          }
        },
        "959b44ea5c2e4d2492342ffd2af2e618": {
          "model_module": "@jupyter-widgets/base",
          "model_name": "LayoutModel",
          "model_module_version": "1.2.0",
          "state": {
            "_model_module": "@jupyter-widgets/base",
            "_model_module_version": "1.2.0",
            "_model_name": "LayoutModel",
            "_view_count": null,
            "_view_module": "@jupyter-widgets/base",
            "_view_module_version": "1.2.0",
            "_view_name": "LayoutView",
            "align_content": null,
            "align_items": null,
            "align_self": null,
            "border": null,
            "bottom": null,
            "display": null,
            "flex": null,
            "flex_flow": null,
            "grid_area": null,
            "grid_auto_columns": null,
            "grid_auto_flow": null,
            "grid_auto_rows": null,
            "grid_column": null,
            "grid_gap": null,
            "grid_row": null,
            "grid_template_areas": null,
            "grid_template_columns": null,
            "grid_template_rows": null,
            "height": null,
            "justify_content": null,
            "justify_items": null,
            "left": null,
            "margin": null,
            "max_height": null,
            "max_width": null,
            "min_height": null,
            "min_width": null,
            "object_fit": null,
            "object_position": null,
            "order": null,
            "overflow": null,
            "overflow_x": null,
            "overflow_y": null,
            "padding": null,
            "right": null,
            "top": null,
            "visibility": null,
            "width": null
          }
        },
        "96ba6937b9f54f8bbe4e1c51cefed732": {
          "model_module": "@jupyter-widgets/controls",
          "model_name": "DescriptionStyleModel",
          "model_module_version": "1.5.0",
          "state": {
            "_model_module": "@jupyter-widgets/controls",
            "_model_module_version": "1.5.0",
            "_model_name": "DescriptionStyleModel",
            "_view_count": null,
            "_view_module": "@jupyter-widgets/base",
            "_view_module_version": "1.2.0",
            "_view_name": "StyleView",
            "description_width": ""
          }
        },
        "e68c42fb7eb9419785ce3bd19690ac57": {
          "model_module": "@jupyter-widgets/base",
          "model_name": "LayoutModel",
          "model_module_version": "1.2.0",
          "state": {
            "_model_module": "@jupyter-widgets/base",
            "_model_module_version": "1.2.0",
            "_model_name": "LayoutModel",
            "_view_count": null,
            "_view_module": "@jupyter-widgets/base",
            "_view_module_version": "1.2.0",
            "_view_name": "LayoutView",
            "align_content": null,
            "align_items": null,
            "align_self": null,
            "border": null,
            "bottom": null,
            "display": null,
            "flex": null,
            "flex_flow": null,
            "grid_area": null,
            "grid_auto_columns": null,
            "grid_auto_flow": null,
            "grid_auto_rows": null,
            "grid_column": null,
            "grid_gap": null,
            "grid_row": null,
            "grid_template_areas": null,
            "grid_template_columns": null,
            "grid_template_rows": null,
            "height": null,
            "justify_content": null,
            "justify_items": null,
            "left": null,
            "margin": null,
            "max_height": null,
            "max_width": null,
            "min_height": null,
            "min_width": null,
            "object_fit": null,
            "object_position": null,
            "order": null,
            "overflow": null,
            "overflow_x": null,
            "overflow_y": null,
            "padding": null,
            "right": null,
            "top": null,
            "visibility": null,
            "width": null
          }
        },
        "6f81144b5d6e443798b5594c32b67b83": {
          "model_module": "@jupyter-widgets/controls",
          "model_name": "ProgressStyleModel",
          "model_module_version": "1.5.0",
          "state": {
            "_model_module": "@jupyter-widgets/controls",
            "_model_module_version": "1.5.0",
            "_model_name": "ProgressStyleModel",
            "_view_count": null,
            "_view_module": "@jupyter-widgets/base",
            "_view_module_version": "1.2.0",
            "_view_name": "StyleView",
            "bar_color": null,
            "description_width": ""
          }
        },
        "87780ce7a27f4f79a7cd580027d0806a": {
          "model_module": "@jupyter-widgets/base",
          "model_name": "LayoutModel",
          "model_module_version": "1.2.0",
          "state": {
            "_model_module": "@jupyter-widgets/base",
            "_model_module_version": "1.2.0",
            "_model_name": "LayoutModel",
            "_view_count": null,
            "_view_module": "@jupyter-widgets/base",
            "_view_module_version": "1.2.0",
            "_view_name": "LayoutView",
            "align_content": null,
            "align_items": null,
            "align_self": null,
            "border": null,
            "bottom": null,
            "display": null,
            "flex": null,
            "flex_flow": null,
            "grid_area": null,
            "grid_auto_columns": null,
            "grid_auto_flow": null,
            "grid_auto_rows": null,
            "grid_column": null,
            "grid_gap": null,
            "grid_row": null,
            "grid_template_areas": null,
            "grid_template_columns": null,
            "grid_template_rows": null,
            "height": null,
            "justify_content": null,
            "justify_items": null,
            "left": null,
            "margin": null,
            "max_height": null,
            "max_width": null,
            "min_height": null,
            "min_width": null,
            "object_fit": null,
            "object_position": null,
            "order": null,
            "overflow": null,
            "overflow_x": null,
            "overflow_y": null,
            "padding": null,
            "right": null,
            "top": null,
            "visibility": null,
            "width": null
          }
        },
        "7102686d07324c64963d2340190acbd6": {
          "model_module": "@jupyter-widgets/controls",
          "model_name": "DescriptionStyleModel",
          "model_module_version": "1.5.0",
          "state": {
            "_model_module": "@jupyter-widgets/controls",
            "_model_module_version": "1.5.0",
            "_model_name": "DescriptionStyleModel",
            "_view_count": null,
            "_view_module": "@jupyter-widgets/base",
            "_view_module_version": "1.2.0",
            "_view_name": "StyleView",
            "description_width": ""
          }
        }
      }
    }
  },
  "cells": [
    {
      "cell_type": "code",
      "execution_count": 16,
      "metadata": {
        "colab": {
          "base_uri": "https://localhost:8080/"
        },
        "id": "JZq65idQigY9",
        "outputId": "13e5a70f-bc57-44f7-de4f-9e40bffc84eb"
      },
      "outputs": [
        {
          "output_type": "stream",
          "name": "stdout",
          "text": [
            "Drive already mounted at /content/drive; to attempt to forcibly remount, call drive.mount(\"/content/drive\", force_remount=True).\n"
          ]
        }
      ],
      "source": [
        "from google.colab import drive\n",
        "drive.mount('/content/drive')"
      ]
    },
    {
      "cell_type": "code",
      "source": [
        "import pandas as pd\n",
        "import numpy as np\n",
        "from sklearn.feature_extraction.text import TfidfVectorizer\n",
        "from sklearn.metrics.pairwise import cosine_similarity\n",
        "from transformers import AutoTokenizer, AutoModel\n",
        "import torch\n",
        "from sklearn.model_selection import train_test_split\n",
        "from collections import Counter\n",
        "\n",
        "# --- Load Dataset ---\n",
        "df = pd.read_csv(\"/content/drive/MyDrive/MA_Putusan/CSV/dataset_putusan_final.csv\")\n",
        "df[\"ringkasan_fakta\"] = df[\"ringkasan_fakta\"].fillna(\"\")\n",
        "\n",
        "# --- Pastikan kolom penting tersedia ---\n",
        "assert \"case_id\" in df.columns and \"ringkasan_fakta\" in df.columns, \"Dataset harus memiliki kolom 'case_id' dan 'ringkasan_fakta'.\"\n",
        "\n",
        "# --- TF-IDF Vectorizer ---\n",
        "stopwords_id = ['yang', 'dan', 'di', 'ke', 'dengan', 'adalah', 'untuk', 'dalam', 'tidak', 'oleh', 'atau']\n",
        "tfidf_vectorizer = TfidfVectorizer(max_features=5000, stop_words=stopwords_id)\n",
        "tfidf_matrix = tfidf_vectorizer.fit_transform(df[\"ringkasan_fakta\"])\n",
        "\n",
        "# --- BERT Tokenizer + Model ---\n",
        "tokenizer = AutoTokenizer.from_pretrained(\"indobenchmark/indobert-base-p1\")\n",
        "model = AutoModel.from_pretrained(\"indobenchmark/indobert-base-p1\")\n",
        "\n",
        "def get_bert_embedding(text):\n",
        "    inputs = tokenizer(text, return_tensors=\"pt\", padding=True, truncation=True, max_length=512)\n",
        "    with torch.no_grad():\n",
        "        outputs = model(**inputs)\n",
        "    return outputs.last_hidden_state.mean(dim=1).squeeze().numpy()\n",
        "\n",
        "# --- Retrieve Function ---\n",
        "def retrieve(query: str, k: int = 5, method: str = \"tfidf\", exclude_case_id=None) -> list:\n",
        "    query = query.strip()\n",
        "    if method == \"tfidf\":\n",
        "        query_vec = tfidf_vectorizer.transform([query])\n",
        "        scores = cosine_similarity(query_vec, tfidf_matrix).flatten()\n",
        "    elif method == \"bert\":\n",
        "        query_vec = get_bert_embedding(query).reshape(1, -1)\n",
        "        doc_vectors = np.array([get_bert_embedding(doc) for doc in df[\"ringkasan_fakta\"]])\n",
        "        scores = cosine_similarity(query_vec, doc_vectors).flatten()\n",
        "    else:\n",
        "        raise ValueError(\"method harus 'tfidf' atau 'bert'.\")\n",
        "\n",
        "    if exclude_case_id is not None:\n",
        "        mask = df[\"case_id\"] != exclude_case_id\n",
        "        scores = scores[mask]\n",
        "        ids = df[mask][\"case_id\"].values\n",
        "    else:\n",
        "        ids = df[\"case_id\"].values\n",
        "\n",
        "    top_indices = scores.argsort()[::-1][:k]\n",
        "    return [ids[i] for i in top_indices]\n"
      ],
      "metadata": {
        "id": "DfxQdYyxK_xd"
      },
      "execution_count": 17,
      "outputs": []
    },
    {
      "cell_type": "code",
      "source": [
        "import os\n",
        "import json\n",
        "\n",
        "# --- Mapping solusi dari dataset ---\n",
        "case_solutions = pd.Series(df[\"ringkasan_fakta\"].values, index=df[\"case_id\"]).to_dict()\n",
        "\n",
        "# --- Fungsi Prediksi Solusi ---\n",
        "def predict_outcome(query: str, query_case_id: int = None, method=\"tfidf\", k=5) -> dict:\n",
        "    top_k = retrieve(query, k=k, method=method, exclude_case_id=query_case_id)\n",
        "    solutions = [case_solutions.get(cid, \"\") for cid in top_k]\n",
        "    counter = Counter(solutions)\n",
        "    predicted_solution = counter.most_common(1)[0][0] if counter else \"Tidak ditemukan\"\n",
        "    return {\n",
        "        \"query\": query,\n",
        "        \"predicted_solution\": predicted_solution,\n",
        "        \"top_k_case_ids\": top_k\n",
        "    }\n",
        "\n",
        "# --- Ambil sample query dari dataset ---\n",
        "sample_queries = df.sample(n=5, random_state=42)[[\"case_id\", \"ringkasan_fakta\"]].reset_index(drop=True)\n",
        "\n",
        "results = []\n",
        "queries = []\n",
        "\n",
        "for _, row in sample_queries.iterrows():\n",
        "    qid = int(row[\"case_id\"])\n",
        "    text = row[\"ringkasan_fakta\"]\n",
        "    true_sol = case_solutions[qid]\n",
        "\n",
        "    pred = predict_outcome(text, query_case_id=qid, method=\"tfidf\")\n",
        "\n",
        "    results.append({\n",
        "        \"Query ID\": qid,\n",
        "        \"Query (Ringkasan)\": text[:100] + \"...\",\n",
        "        \"Predicted Solution\": pred[\"predicted_solution\"][:100] + \"...\",\n",
        "        \"Top-5 Case IDs\": pred[\"top_k_case_ids\"]\n",
        "    })\n",
        "\n",
        "    queries.append({\n",
        "        \"query_id\": qid,\n",
        "        \"text\": text,\n",
        "        \"true_solution\": true_sol\n",
        "    })\n",
        "\n",
        "# --- Simpan Hasil ke File ---\n",
        "output_dir = \"/content/drive/MyDrive/MA_Putusan/Hasil\"\n",
        "os.makedirs(output_dir, exist_ok=True)\n",
        "\n",
        "pd.DataFrame(results).to_csv(f\"{output_dir}/predictions.csv\", index=False)\n",
        "with open(f\"{output_dir}/queries.json\", \"w\") as f:\n",
        "    json.dump(queries, f, indent=2)\n",
        "\n",
        "# --- Tampilkan Tabel di Output Cell ---\n",
        "pd.DataFrame(results)\n"
      ],
      "metadata": {
        "colab": {
          "base_uri": "https://localhost:8080/",
          "height": 206
        },
        "id": "96pVaKTdLAd-",
        "outputId": "ab1234b2-c05d-41ec-9710-861a6e6966e5"
      },
      "execution_count": 18,
      "outputs": [
        {
          "output_type": "execute_result",
          "data": {
            "text/plain": [
              "   Query ID                                  Query (Ringkasan)  \\\n",
              "0        34  Terdakwa diajukan ke persidangan oleh Penuntut...   \n",
              "1         7  Terdakwa diajukan ke persidangan oleh Penuntut...   \n",
              "2       182  Terdakwa diajukan ke persidangan oleh Penuntut...   \n",
              "3        87  Terdakwa diajukan ke persidangan oleh Penuntut...   \n",
              "4       156  Terdakwa diajukan ke persidangan oleh Penuntut...   \n",
              "\n",
              "                                  Predicted Solution  \\\n",
              "0  Terdakwa diajukan ke persidangan oleh Penuntut...   \n",
              "1  Terdakwa diajukan ke persidangan oleh Penuntut...   \n",
              "2  Terdakwa diajukan ke persidangan oleh Penuntut...   \n",
              "3  Terdakwa diajukan ke persidangan oleh Penuntut...   \n",
              "4  Terdakwa  diajukan  ke  persidangan  oleh  Pen...   \n",
              "\n",
              "              Top-5 Case IDs  \n",
              "0   [188, 88, 123, 187, 178]  \n",
              "1   [121, 115, 127, 94, 122]  \n",
              "2  [208, 148, 137, 147, 202]  \n",
              "3    [113, 71, 84, 125, 100]  \n",
              "4  [131, 195, 202, 189, 143]  "
            ],
            "text/html": [
              "\n",
              "  <div id=\"df-bb4cee00-6840-4783-9547-bf95fb8acedd\" class=\"colab-df-container\">\n",
              "    <div>\n",
              "<style scoped>\n",
              "    .dataframe tbody tr th:only-of-type {\n",
              "        vertical-align: middle;\n",
              "    }\n",
              "\n",
              "    .dataframe tbody tr th {\n",
              "        vertical-align: top;\n",
              "    }\n",
              "\n",
              "    .dataframe thead th {\n",
              "        text-align: right;\n",
              "    }\n",
              "</style>\n",
              "<table border=\"1\" class=\"dataframe\">\n",
              "  <thead>\n",
              "    <tr style=\"text-align: right;\">\n",
              "      <th></th>\n",
              "      <th>Query ID</th>\n",
              "      <th>Query (Ringkasan)</th>\n",
              "      <th>Predicted Solution</th>\n",
              "      <th>Top-5 Case IDs</th>\n",
              "    </tr>\n",
              "  </thead>\n",
              "  <tbody>\n",
              "    <tr>\n",
              "      <th>0</th>\n",
              "      <td>34</td>\n",
              "      <td>Terdakwa diajukan ke persidangan oleh Penuntut...</td>\n",
              "      <td>Terdakwa diajukan ke persidangan oleh Penuntut...</td>\n",
              "      <td>[188, 88, 123, 187, 178]</td>\n",
              "    </tr>\n",
              "    <tr>\n",
              "      <th>1</th>\n",
              "      <td>7</td>\n",
              "      <td>Terdakwa diajukan ke persidangan oleh Penuntut...</td>\n",
              "      <td>Terdakwa diajukan ke persidangan oleh Penuntut...</td>\n",
              "      <td>[121, 115, 127, 94, 122]</td>\n",
              "    </tr>\n",
              "    <tr>\n",
              "      <th>2</th>\n",
              "      <td>182</td>\n",
              "      <td>Terdakwa diajukan ke persidangan oleh Penuntut...</td>\n",
              "      <td>Terdakwa diajukan ke persidangan oleh Penuntut...</td>\n",
              "      <td>[208, 148, 137, 147, 202]</td>\n",
              "    </tr>\n",
              "    <tr>\n",
              "      <th>3</th>\n",
              "      <td>87</td>\n",
              "      <td>Terdakwa diajukan ke persidangan oleh Penuntut...</td>\n",
              "      <td>Terdakwa diajukan ke persidangan oleh Penuntut...</td>\n",
              "      <td>[113, 71, 84, 125, 100]</td>\n",
              "    </tr>\n",
              "    <tr>\n",
              "      <th>4</th>\n",
              "      <td>156</td>\n",
              "      <td>Terdakwa diajukan ke persidangan oleh Penuntut...</td>\n",
              "      <td>Terdakwa  diajukan  ke  persidangan  oleh  Pen...</td>\n",
              "      <td>[131, 195, 202, 189, 143]</td>\n",
              "    </tr>\n",
              "  </tbody>\n",
              "</table>\n",
              "</div>\n",
              "    <div class=\"colab-df-buttons\">\n",
              "\n",
              "  <div class=\"colab-df-container\">\n",
              "    <button class=\"colab-df-convert\" onclick=\"convertToInteractive('df-bb4cee00-6840-4783-9547-bf95fb8acedd')\"\n",
              "            title=\"Convert this dataframe to an interactive table.\"\n",
              "            style=\"display:none;\">\n",
              "\n",
              "  <svg xmlns=\"http://www.w3.org/2000/svg\" height=\"24px\" viewBox=\"0 -960 960 960\">\n",
              "    <path d=\"M120-120v-720h720v720H120Zm60-500h600v-160H180v160Zm220 220h160v-160H400v160Zm0 220h160v-160H400v160ZM180-400h160v-160H180v160Zm440 0h160v-160H620v160ZM180-180h160v-160H180v160Zm440 0h160v-160H620v160Z\"/>\n",
              "  </svg>\n",
              "    </button>\n",
              "\n",
              "  <style>\n",
              "    .colab-df-container {\n",
              "      display:flex;\n",
              "      gap: 12px;\n",
              "    }\n",
              "\n",
              "    .colab-df-convert {\n",
              "      background-color: #E8F0FE;\n",
              "      border: none;\n",
              "      border-radius: 50%;\n",
              "      cursor: pointer;\n",
              "      display: none;\n",
              "      fill: #1967D2;\n",
              "      height: 32px;\n",
              "      padding: 0 0 0 0;\n",
              "      width: 32px;\n",
              "    }\n",
              "\n",
              "    .colab-df-convert:hover {\n",
              "      background-color: #E2EBFA;\n",
              "      box-shadow: 0px 1px 2px rgba(60, 64, 67, 0.3), 0px 1px 3px 1px rgba(60, 64, 67, 0.15);\n",
              "      fill: #174EA6;\n",
              "    }\n",
              "\n",
              "    .colab-df-buttons div {\n",
              "      margin-bottom: 4px;\n",
              "    }\n",
              "\n",
              "    [theme=dark] .colab-df-convert {\n",
              "      background-color: #3B4455;\n",
              "      fill: #D2E3FC;\n",
              "    }\n",
              "\n",
              "    [theme=dark] .colab-df-convert:hover {\n",
              "      background-color: #434B5C;\n",
              "      box-shadow: 0px 1px 3px 1px rgba(0, 0, 0, 0.15);\n",
              "      filter: drop-shadow(0px 1px 2px rgba(0, 0, 0, 0.3));\n",
              "      fill: #FFFFFF;\n",
              "    }\n",
              "  </style>\n",
              "\n",
              "    <script>\n",
              "      const buttonEl =\n",
              "        document.querySelector('#df-bb4cee00-6840-4783-9547-bf95fb8acedd button.colab-df-convert');\n",
              "      buttonEl.style.display =\n",
              "        google.colab.kernel.accessAllowed ? 'block' : 'none';\n",
              "\n",
              "      async function convertToInteractive(key) {\n",
              "        const element = document.querySelector('#df-bb4cee00-6840-4783-9547-bf95fb8acedd');\n",
              "        const dataTable =\n",
              "          await google.colab.kernel.invokeFunction('convertToInteractive',\n",
              "                                                    [key], {});\n",
              "        if (!dataTable) return;\n",
              "\n",
              "        const docLinkHtml = 'Like what you see? Visit the ' +\n",
              "          '<a target=\"_blank\" href=https://colab.research.google.com/notebooks/data_table.ipynb>data table notebook</a>'\n",
              "          + ' to learn more about interactive tables.';\n",
              "        element.innerHTML = '';\n",
              "        dataTable['output_type'] = 'display_data';\n",
              "        await google.colab.output.renderOutput(dataTable, element);\n",
              "        const docLink = document.createElement('div');\n",
              "        docLink.innerHTML = docLinkHtml;\n",
              "        element.appendChild(docLink);\n",
              "      }\n",
              "    </script>\n",
              "  </div>\n",
              "\n",
              "\n",
              "<div id=\"df-f45702ce-992e-4a23-b846-dab8b67176c1\">\n",
              "  <button class=\"colab-df-quickchart\" onclick=\"quickchart('df-f45702ce-992e-4a23-b846-dab8b67176c1')\"\n",
              "            title=\"Suggest charts\"\n",
              "            style=\"display:none;\">\n",
              "\n",
              "<svg xmlns=\"http://www.w3.org/2000/svg\" height=\"24px\"viewBox=\"0 0 24 24\"\n",
              "     width=\"24px\">\n",
              "    <g>\n",
              "        <path d=\"M19 3H5c-1.1 0-2 .9-2 2v14c0 1.1.9 2 2 2h14c1.1 0 2-.9 2-2V5c0-1.1-.9-2-2-2zM9 17H7v-7h2v7zm4 0h-2V7h2v10zm4 0h-2v-4h2v4z\"/>\n",
              "    </g>\n",
              "</svg>\n",
              "  </button>\n",
              "\n",
              "<style>\n",
              "  .colab-df-quickchart {\n",
              "      --bg-color: #E8F0FE;\n",
              "      --fill-color: #1967D2;\n",
              "      --hover-bg-color: #E2EBFA;\n",
              "      --hover-fill-color: #174EA6;\n",
              "      --disabled-fill-color: #AAA;\n",
              "      --disabled-bg-color: #DDD;\n",
              "  }\n",
              "\n",
              "  [theme=dark] .colab-df-quickchart {\n",
              "      --bg-color: #3B4455;\n",
              "      --fill-color: #D2E3FC;\n",
              "      --hover-bg-color: #434B5C;\n",
              "      --hover-fill-color: #FFFFFF;\n",
              "      --disabled-bg-color: #3B4455;\n",
              "      --disabled-fill-color: #666;\n",
              "  }\n",
              "\n",
              "  .colab-df-quickchart {\n",
              "    background-color: var(--bg-color);\n",
              "    border: none;\n",
              "    border-radius: 50%;\n",
              "    cursor: pointer;\n",
              "    display: none;\n",
              "    fill: var(--fill-color);\n",
              "    height: 32px;\n",
              "    padding: 0;\n",
              "    width: 32px;\n",
              "  }\n",
              "\n",
              "  .colab-df-quickchart:hover {\n",
              "    background-color: var(--hover-bg-color);\n",
              "    box-shadow: 0 1px 2px rgba(60, 64, 67, 0.3), 0 1px 3px 1px rgba(60, 64, 67, 0.15);\n",
              "    fill: var(--button-hover-fill-color);\n",
              "  }\n",
              "\n",
              "  .colab-df-quickchart-complete:disabled,\n",
              "  .colab-df-quickchart-complete:disabled:hover {\n",
              "    background-color: var(--disabled-bg-color);\n",
              "    fill: var(--disabled-fill-color);\n",
              "    box-shadow: none;\n",
              "  }\n",
              "\n",
              "  .colab-df-spinner {\n",
              "    border: 2px solid var(--fill-color);\n",
              "    border-color: transparent;\n",
              "    border-bottom-color: var(--fill-color);\n",
              "    animation:\n",
              "      spin 1s steps(1) infinite;\n",
              "  }\n",
              "\n",
              "  @keyframes spin {\n",
              "    0% {\n",
              "      border-color: transparent;\n",
              "      border-bottom-color: var(--fill-color);\n",
              "      border-left-color: var(--fill-color);\n",
              "    }\n",
              "    20% {\n",
              "      border-color: transparent;\n",
              "      border-left-color: var(--fill-color);\n",
              "      border-top-color: var(--fill-color);\n",
              "    }\n",
              "    30% {\n",
              "      border-color: transparent;\n",
              "      border-left-color: var(--fill-color);\n",
              "      border-top-color: var(--fill-color);\n",
              "      border-right-color: var(--fill-color);\n",
              "    }\n",
              "    40% {\n",
              "      border-color: transparent;\n",
              "      border-right-color: var(--fill-color);\n",
              "      border-top-color: var(--fill-color);\n",
              "    }\n",
              "    60% {\n",
              "      border-color: transparent;\n",
              "      border-right-color: var(--fill-color);\n",
              "    }\n",
              "    80% {\n",
              "      border-color: transparent;\n",
              "      border-right-color: var(--fill-color);\n",
              "      border-bottom-color: var(--fill-color);\n",
              "    }\n",
              "    90% {\n",
              "      border-color: transparent;\n",
              "      border-bottom-color: var(--fill-color);\n",
              "    }\n",
              "  }\n",
              "</style>\n",
              "\n",
              "  <script>\n",
              "    async function quickchart(key) {\n",
              "      const quickchartButtonEl =\n",
              "        document.querySelector('#' + key + ' button');\n",
              "      quickchartButtonEl.disabled = true;  // To prevent multiple clicks.\n",
              "      quickchartButtonEl.classList.add('colab-df-spinner');\n",
              "      try {\n",
              "        const charts = await google.colab.kernel.invokeFunction(\n",
              "            'suggestCharts', [key], {});\n",
              "      } catch (error) {\n",
              "        console.error('Error during call to suggestCharts:', error);\n",
              "      }\n",
              "      quickchartButtonEl.classList.remove('colab-df-spinner');\n",
              "      quickchartButtonEl.classList.add('colab-df-quickchart-complete');\n",
              "    }\n",
              "    (() => {\n",
              "      let quickchartButtonEl =\n",
              "        document.querySelector('#df-f45702ce-992e-4a23-b846-dab8b67176c1 button');\n",
              "      quickchartButtonEl.style.display =\n",
              "        google.colab.kernel.accessAllowed ? 'block' : 'none';\n",
              "    })();\n",
              "  </script>\n",
              "</div>\n",
              "\n",
              "    </div>\n",
              "  </div>\n"
            ],
            "application/vnd.google.colaboratory.intrinsic+json": {
              "type": "dataframe",
              "summary": "{\n  \"name\": \"pd\",\n  \"rows\": 5,\n  \"fields\": [\n    {\n      \"column\": \"Query ID\",\n      \"properties\": {\n        \"dtype\": \"number\",\n        \"std\": 75,\n        \"min\": 7,\n        \"max\": 182,\n        \"num_unique_values\": 5,\n        \"samples\": [\n          7,\n          156,\n          182\n        ],\n        \"semantic_type\": \"\",\n        \"description\": \"\"\n      }\n    },\n    {\n      \"column\": \"Query (Ringkasan)\",\n      \"properties\": {\n        \"dtype\": \"category\",\n        \"num_unique_values\": 1,\n        \"samples\": [\n          \"Terdakwa diajukan ke persidangan oleh Penuntut Umum didakwa berdasarkan surat dakwaan sebagai beriku...\"\n        ],\n        \"semantic_type\": \"\",\n        \"description\": \"\"\n      }\n    },\n    {\n      \"column\": \"Predicted Solution\",\n      \"properties\": {\n        \"dtype\": \"category\",\n        \"num_unique_values\": 2,\n        \"samples\": [\n          \"Terdakwa  diajukan  ke  persidangan  oleh  Penuntut Umum didakwa berdasarkan surat dakwaan sebagai b...\"\n        ],\n        \"semantic_type\": \"\",\n        \"description\": \"\"\n      }\n    },\n    {\n      \"column\": \"Top-5 Case IDs\",\n      \"properties\": {\n        \"dtype\": \"object\",\n        \"semantic_type\": \"\",\n        \"description\": \"\"\n      }\n    }\n  ]\n}"
            }
          },
          "metadata": {},
          "execution_count": 18
        }
      ]
    },
    {
      "cell_type": "code",
      "source": [
        "!pip install -U imbalanced-learn\n"
      ],
      "metadata": {
        "colab": {
          "base_uri": "https://localhost:8080/"
        },
        "id": "bl74UX51Wm_C",
        "outputId": "50e3d73a-18e4-4af1-9baa-78e63e12cdda"
      },
      "execution_count": 22,
      "outputs": [
        {
          "output_type": "stream",
          "name": "stdout",
          "text": [
            "Requirement already satisfied: imbalanced-learn in /usr/local/lib/python3.11/dist-packages (0.13.0)\n",
            "Requirement already satisfied: numpy<3,>=1.24.3 in /usr/local/lib/python3.11/dist-packages (from imbalanced-learn) (1.26.4)\n",
            "Requirement already satisfied: scipy<2,>=1.10.1 in /usr/local/lib/python3.11/dist-packages (from imbalanced-learn) (1.13.1)\n",
            "Requirement already satisfied: scikit-learn<2,>=1.3.2 in /usr/local/lib/python3.11/dist-packages (from imbalanced-learn) (1.6.1)\n",
            "Requirement already satisfied: sklearn-compat<1,>=0.1 in /usr/local/lib/python3.11/dist-packages (from imbalanced-learn) (0.1.3)\n",
            "Requirement already satisfied: joblib<2,>=1.1.1 in /usr/local/lib/python3.11/dist-packages (from imbalanced-learn) (1.4.2)\n",
            "Requirement already satisfied: threadpoolctl<4,>=2.0.0 in /usr/local/lib/python3.11/dist-packages (from imbalanced-learn) (3.5.0)\n"
          ]
        }
      ]
    },
    {
      "cell_type": "code",
      "source": [
        "!pip install -U sentence-transformers\n",
        "\n",
        "import pandas as pd\n",
        "import numpy as np\n",
        "import torch\n",
        "import matplotlib.pyplot as plt\n",
        "import seaborn as sns\n",
        "\n",
        "from sentence_transformers import SentenceTransformer, util\n",
        "from sklearn.model_selection import train_test_split\n"
      ],
      "metadata": {
        "colab": {
          "base_uri": "https://localhost:8080/"
        },
        "id": "HZrxq2OHLB8a",
        "outputId": "d0cfa8ff-3b54-4725-ac25-b23e593863fb"
      },
      "execution_count": 38,
      "outputs": [
        {
          "output_type": "stream",
          "name": "stdout",
          "text": [
            "Requirement already satisfied: sentence-transformers in /usr/local/lib/python3.11/dist-packages (4.1.0)\n",
            "Requirement already satisfied: transformers<5.0.0,>=4.41.0 in /usr/local/lib/python3.11/dist-packages (from sentence-transformers) (4.48.3)\n",
            "Requirement already satisfied: tqdm in /usr/local/lib/python3.11/dist-packages (from sentence-transformers) (4.67.1)\n",
            "Requirement already satisfied: torch>=1.11.0 in /usr/local/lib/python3.11/dist-packages (from sentence-transformers) (2.5.1+cu124)\n",
            "Requirement already satisfied: scikit-learn in /usr/local/lib/python3.11/dist-packages (from sentence-transformers) (1.6.1)\n",
            "Requirement already satisfied: scipy in /usr/local/lib/python3.11/dist-packages (from sentence-transformers) (1.13.1)\n",
            "Requirement already satisfied: huggingface-hub>=0.20.0 in /usr/local/lib/python3.11/dist-packages (from sentence-transformers) (0.28.1)\n",
            "Requirement already satisfied: Pillow in /usr/local/lib/python3.11/dist-packages (from sentence-transformers) (11.1.0)\n",
            "Requirement already satisfied: typing_extensions>=4.5.0 in /usr/local/lib/python3.11/dist-packages (from sentence-transformers) (4.12.2)\n",
            "Requirement already satisfied: filelock in /usr/local/lib/python3.11/dist-packages (from huggingface-hub>=0.20.0->sentence-transformers) (3.17.0)\n",
            "Requirement already satisfied: fsspec>=2023.5.0 in /usr/local/lib/python3.11/dist-packages (from huggingface-hub>=0.20.0->sentence-transformers) (2024.10.0)\n",
            "Requirement already satisfied: packaging>=20.9 in /usr/local/lib/python3.11/dist-packages (from huggingface-hub>=0.20.0->sentence-transformers) (24.2)\n",
            "Requirement already satisfied: pyyaml>=5.1 in /usr/local/lib/python3.11/dist-packages (from huggingface-hub>=0.20.0->sentence-transformers) (6.0.2)\n",
            "Requirement already satisfied: requests in /usr/local/lib/python3.11/dist-packages (from huggingface-hub>=0.20.0->sentence-transformers) (2.32.3)\n",
            "Requirement already satisfied: networkx in /usr/local/lib/python3.11/dist-packages (from torch>=1.11.0->sentence-transformers) (3.4.2)\n",
            "Requirement already satisfied: jinja2 in /usr/local/lib/python3.11/dist-packages (from torch>=1.11.0->sentence-transformers) (3.1.5)\n",
            "Requirement already satisfied: nvidia-cuda-nvrtc-cu12==12.4.127 in /usr/local/lib/python3.11/dist-packages (from torch>=1.11.0->sentence-transformers) (12.4.127)\n",
            "Requirement already satisfied: nvidia-cuda-runtime-cu12==12.4.127 in /usr/local/lib/python3.11/dist-packages (from torch>=1.11.0->sentence-transformers) (12.4.127)\n",
            "Requirement already satisfied: nvidia-cuda-cupti-cu12==12.4.127 in /usr/local/lib/python3.11/dist-packages (from torch>=1.11.0->sentence-transformers) (12.4.127)\n",
            "Requirement already satisfied: nvidia-cudnn-cu12==9.1.0.70 in /usr/local/lib/python3.11/dist-packages (from torch>=1.11.0->sentence-transformers) (9.1.0.70)\n",
            "Requirement already satisfied: nvidia-cublas-cu12==12.4.5.8 in /usr/local/lib/python3.11/dist-packages (from torch>=1.11.0->sentence-transformers) (12.4.5.8)\n",
            "Requirement already satisfied: nvidia-cufft-cu12==11.2.1.3 in /usr/local/lib/python3.11/dist-packages (from torch>=1.11.0->sentence-transformers) (11.2.1.3)\n",
            "Requirement already satisfied: nvidia-curand-cu12==10.3.5.147 in /usr/local/lib/python3.11/dist-packages (from torch>=1.11.0->sentence-transformers) (10.3.5.147)\n",
            "Requirement already satisfied: nvidia-cusolver-cu12==11.6.1.9 in /usr/local/lib/python3.11/dist-packages (from torch>=1.11.0->sentence-transformers) (11.6.1.9)\n",
            "Requirement already satisfied: nvidia-cusparse-cu12==12.3.1.170 in /usr/local/lib/python3.11/dist-packages (from torch>=1.11.0->sentence-transformers) (12.3.1.170)\n",
            "Requirement already satisfied: nvidia-nccl-cu12==2.21.5 in /usr/local/lib/python3.11/dist-packages (from torch>=1.11.0->sentence-transformers) (2.21.5)\n",
            "Requirement already satisfied: nvidia-nvtx-cu12==12.4.127 in /usr/local/lib/python3.11/dist-packages (from torch>=1.11.0->sentence-transformers) (12.4.127)\n",
            "Requirement already satisfied: nvidia-nvjitlink-cu12==12.4.127 in /usr/local/lib/python3.11/dist-packages (from torch>=1.11.0->sentence-transformers) (12.4.127)\n",
            "Requirement already satisfied: triton==3.1.0 in /usr/local/lib/python3.11/dist-packages (from torch>=1.11.0->sentence-transformers) (3.1.0)\n",
            "Requirement already satisfied: sympy==1.13.1 in /usr/local/lib/python3.11/dist-packages (from torch>=1.11.0->sentence-transformers) (1.13.1)\n",
            "Requirement already satisfied: mpmath<1.4,>=1.1.0 in /usr/local/lib/python3.11/dist-packages (from sympy==1.13.1->torch>=1.11.0->sentence-transformers) (1.3.0)\n",
            "Requirement already satisfied: numpy>=1.17 in /usr/local/lib/python3.11/dist-packages (from transformers<5.0.0,>=4.41.0->sentence-transformers) (1.26.4)\n",
            "Requirement already satisfied: regex!=2019.12.17 in /usr/local/lib/python3.11/dist-packages (from transformers<5.0.0,>=4.41.0->sentence-transformers) (2024.11.6)\n",
            "Requirement already satisfied: tokenizers<0.22,>=0.21 in /usr/local/lib/python3.11/dist-packages (from transformers<5.0.0,>=4.41.0->sentence-transformers) (0.21.0)\n",
            "Requirement already satisfied: safetensors>=0.4.1 in /usr/local/lib/python3.11/dist-packages (from transformers<5.0.0,>=4.41.0->sentence-transformers) (0.5.3)\n",
            "Requirement already satisfied: joblib>=1.2.0 in /usr/local/lib/python3.11/dist-packages (from scikit-learn->sentence-transformers) (1.4.2)\n",
            "Requirement already satisfied: threadpoolctl>=3.1.0 in /usr/local/lib/python3.11/dist-packages (from scikit-learn->sentence-transformers) (3.5.0)\n",
            "Requirement already satisfied: MarkupSafe>=2.0 in /usr/local/lib/python3.11/dist-packages (from jinja2->torch>=1.11.0->sentence-transformers) (3.0.2)\n",
            "Requirement already satisfied: charset-normalizer<4,>=2 in /usr/local/lib/python3.11/dist-packages (from requests->huggingface-hub>=0.20.0->sentence-transformers) (3.4.1)\n",
            "Requirement already satisfied: idna<4,>=2.5 in /usr/local/lib/python3.11/dist-packages (from requests->huggingface-hub>=0.20.0->sentence-transformers) (3.10)\n",
            "Requirement already satisfied: urllib3<3,>=1.21.1 in /usr/local/lib/python3.11/dist-packages (from requests->huggingface-hub>=0.20.0->sentence-transformers) (2.3.0)\n",
            "Requirement already satisfied: certifi>=2017.4.17 in /usr/local/lib/python3.11/dist-packages (from requests->huggingface-hub>=0.20.0->sentence-transformers) (2025.1.31)\n"
          ]
        }
      ]
    },
    {
      "cell_type": "code",
      "source": [
        "# STEP 2: Load Dataset\n",
        "df = pd.read_csv('/content/drive/MyDrive/MA_Putusan/CSV/dataset_putusan_final.csv')\n",
        "df = df.dropna(subset=['ringkasan_fakta', 'pasal']).drop_duplicates(subset=['ringkasan_fakta'])\n",
        "\n",
        "def clean_pasal(pasal):\n",
        "    return pasal.lower().replace('kuhp', '').replace('.', '').strip()\n",
        "\n",
        "df['pasal_clean'] = df['pasal'].astype(str).apply(clean_pasal)\n"
      ],
      "metadata": {
        "id": "rPOqgfyXheyx"
      },
      "execution_count": 54,
      "outputs": []
    },
    {
      "cell_type": "code",
      "source": [
        "# STEP 3: Filter pasal yang muncul > 1 kali\n",
        "pasal_counts = df['pasal_clean'].value_counts()\n",
        "popular_pasals = pasal_counts[pasal_counts > 1].index.tolist()\n",
        "\n",
        "df = df[df['pasal_clean'].isin(popular_pasals)].reset_index(drop=True)\n",
        "print(\"Jumlah data setelah filter pasal populer:\", len(df))\n"
      ],
      "metadata": {
        "colab": {
          "base_uri": "https://localhost:8080/"
        },
        "id": "nBBPRlxdlDlX",
        "outputId": "8be63669-814a-4037-8644-f4e206941798"
      },
      "execution_count": 55,
      "outputs": [
        {
          "output_type": "stream",
          "name": "stdout",
          "text": [
            "Jumlah data setelah filter pasal populer: 14\n"
          ]
        }
      ]
    },
    {
      "cell_type": "code",
      "source": [
        "# Tambahan Cek agar tidak error\n",
        "if len(df) < 5:\n",
        "    raise ValueError(\"❌ Dataset terlalu kecil setelah filtering. Gunakan threshold lebih rendah atau periksa dataset.\")\n"
      ],
      "metadata": {
        "id": "5Gs2BIuNlFro"
      },
      "execution_count": 56,
      "outputs": []
    },
    {
      "cell_type": "code",
      "source": [
        "# STEP 4: Split data\n",
        "corpus_df, query_df = train_test_split(df, test_size=0.2, random_state=42)\n",
        "corpus_df = corpus_df.reset_index(drop=True)\n",
        "query_df = query_df.sample(n=min(100, len(query_df)), random_state=42).reset_index(drop=True)\n"
      ],
      "metadata": {
        "id": "-_MvXWDrnspR"
      },
      "execution_count": 57,
      "outputs": []
    },
    {
      "cell_type": "code",
      "source": [
        "# STEP 5: Load SBERT\n",
        "model = SentenceTransformer('indobenchmark/indobert-base-p1')\n"
      ],
      "metadata": {
        "colab": {
          "base_uri": "https://localhost:8080/"
        },
        "id": "XINzlgqMlHos",
        "outputId": "c6650631-2c2d-4bf2-b569-41d764963376"
      },
      "execution_count": 58,
      "outputs": [
        {
          "output_type": "stream",
          "name": "stderr",
          "text": [
            "WARNING:sentence_transformers.SentenceTransformer:No sentence-transformers model found with name indobenchmark/indobert-base-p1. Creating a new one with mean pooling.\n"
          ]
        }
      ]
    },
    {
      "cell_type": "code",
      "source": [
        "# STEP 6: Encode Corpus\n",
        "corpus_embeddings = model.encode(\n",
        "    corpus_df['ringkasan_fakta'].tolist(),\n",
        "    convert_to_tensor=True,\n",
        "    show_progress_bar=True\n",
        ")\n"
      ],
      "metadata": {
        "colab": {
          "base_uri": "https://localhost:8080/",
          "height": 49,
          "referenced_widgets": [
            "1dbc252b26854947a72147d0011e7ad5",
            "1e752c2fb0264243aa21438eb3afc0bc",
            "245638ac26a348b7b2f2af3130528451",
            "b9cabf96049847fab3528c6392428889",
            "d914c522127d448c95c6769ee9ffe089",
            "959b44ea5c2e4d2492342ffd2af2e618",
            "96ba6937b9f54f8bbe4e1c51cefed732",
            "e68c42fb7eb9419785ce3bd19690ac57",
            "6f81144b5d6e443798b5594c32b67b83",
            "87780ce7a27f4f79a7cd580027d0806a",
            "7102686d07324c64963d2340190acbd6"
          ]
        },
        "id": "pRxuy0S5lJ3O",
        "outputId": "e768ec0d-7b9f-4e84-fcd9-c393754ecae8"
      },
      "execution_count": 59,
      "outputs": [
        {
          "output_type": "display_data",
          "data": {
            "text/plain": [
              "Batches:   0%|          | 0/1 [00:00<?, ?it/s]"
            ],
            "application/vnd.jupyter.widget-view+json": {
              "version_major": 2,
              "version_minor": 0,
              "model_id": "1dbc252b26854947a72147d0011e7ad5"
            }
          },
          "metadata": {}
        }
      ]
    },
    {
      "cell_type": "code",
      "source": [
        "# STEP 7: Retrieval Evaluasi\n",
        "top_k = 5\n",
        "hits, ranks = [], []\n",
        "\n",
        "for i, row in query_df.iterrows():\n",
        "    query_text = row['ringkasan_fakta']\n",
        "    query_label = row['pasal_clean']\n",
        "\n",
        "    query_embedding = model.encode(query_text, convert_to_tensor=True)\n",
        "    similarities = util.cos_sim(query_embedding, corpus_embeddings)[0]\n",
        "    top_indices = torch.topk(similarities, k=top_k).indices.cpu().tolist()\n",
        "    retrieved_labels = corpus_df.iloc[top_indices]['pasal_clean'].tolist()\n",
        "\n",
        "    # Hit@5 dan Reciprocal Rank\n",
        "    hits.append(query_label in retrieved_labels)\n",
        "    rr = 0\n",
        "    for rank, label in enumerate(retrieved_labels, start=1):\n",
        "        if label == query_label:\n",
        "            rr = 1 / rank\n",
        "            break\n",
        "    ranks.append(rr)\n",
        "\n",
        "query_df['Hit@5'] = hits\n",
        "query_df['ReciprocalRank'] = ranks\n"
      ],
      "metadata": {
        "id": "jEBaC7JwlNT8"
      },
      "execution_count": 60,
      "outputs": []
    },
    {
      "cell_type": "code",
      "source": [
        "# STEP 8: Evaluasi\n",
        "acc = query_df['Hit@5'].mean()\n",
        "mrr = query_df['ReciprocalRank'].mean()\n",
        "\n",
        "print(f\"✅ Top-5 Retrieval Accuracy: {acc:.2%}\")\n",
        "print(f\"✅ Mean Reciprocal Rank (MRR): {mrr:.4f}\")\n"
      ],
      "metadata": {
        "colab": {
          "base_uri": "https://localhost:8080/"
        },
        "id": "EYVw2iHqlO1H",
        "outputId": "ec4d3e87-3846-4872-c194-9fd75384ba0e"
      },
      "execution_count": 61,
      "outputs": [
        {
          "output_type": "stream",
          "name": "stdout",
          "text": [
            "✅ Top-5 Retrieval Accuracy: 100.00%\n",
            "✅ Mean Reciprocal Rank (MRR): 0.4667\n"
          ]
        }
      ]
    },
    {
      "cell_type": "code",
      "source": [
        "# STEP 9: Visualisasi\n",
        "sns.countplot(data=query_df, x='Hit@5', palette='Set2')\n",
        "plt.title('Distribusi Hit@5 (Pasal cocok di Top-5)')\n",
        "plt.xticks([0, 1], ['Tidak', 'Ya'])\n",
        "plt.xlabel('Apakah pasal ditemukan?')\n",
        "plt.ylabel('Jumlah Query')\n",
        "plt.show()\n",
        "\n",
        "sns.histplot(data=query_df, x='ReciprocalRank', bins=10, kde=True, color='skyblue')\n",
        "plt.title('Distribusi Reciprocal Rank')\n",
        "plt.xlabel('Reciprocal Rank')\n",
        "plt.ylabel('Jumlah Query')\n",
        "plt.show()\n"
      ],
      "metadata": {
        "colab": {
          "base_uri": "https://localhost:8080/",
          "height": 1000
        },
        "id": "8hrWQpU7lRQS",
        "outputId": "0d251b51-98c4-41d2-e56c-7705c04aac3c"
      },
      "execution_count": 62,
      "outputs": [
        {
          "output_type": "stream",
          "name": "stderr",
          "text": [
            "<ipython-input-62-4c37341beea0>:2: FutureWarning: \n",
            "\n",
            "Passing `palette` without assigning `hue` is deprecated and will be removed in v0.14.0. Assign the `x` variable to `hue` and set `legend=False` for the same effect.\n",
            "\n",
            "  sns.countplot(data=query_df, x='Hit@5', palette='Set2')\n"
          ]
        },
        {
          "output_type": "display_data",
          "data": {
            "text/plain": [
              "<Figure size 640x480 with 1 Axes>"
            ],
            "image/png": "[encoded data removed]"
          },
          "metadata": {}
        },
        {
          "output_type": "display_data",
          "data": {
            "text/plain": [
              "<Figure size 640x480 with 1 Axes>"
            ],
            "image/png": "[encoded data removed]"
          },
          "metadata": {}
        }
      ]
    }
  ]
}